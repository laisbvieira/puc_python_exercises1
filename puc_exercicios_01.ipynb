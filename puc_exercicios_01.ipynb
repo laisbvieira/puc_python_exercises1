{
  "nbformat": 4,
  "nbformat_minor": 0,
  "metadata": {
    "colab": {
      "provenance": [],
      "authorship_tag": "ABX9TyMSnGP/MmQsoklQPbWVjlRT",
      "include_colab_link": true
    },
    "kernelspec": {
      "name": "python3",
      "display_name": "Python 3"
    },
    "language_info": {
      "name": "python"
    }
  },
  "cells": [
    {
      "cell_type": "markdown",
      "metadata": {
        "id": "view-in-github",
        "colab_type": "text"
      },
      "source": [
        "<a href=\"https://colab.research.google.com/github/laisbvieira/puc_python_exercises1/blob/main/puc_exercicios_01.ipynb\" target=\"_parent\"><img src=\"https://colab.research.google.com/assets/colab-badge.svg\" alt=\"Open In Colab\"/></a>"
      ]
    },
    {
      "cell_type": "markdown",
      "source": [
        "Exercício 8) Desconto do IPTU conforme idade do imóvel"
      ],
      "metadata": {
        "id": "kFe56-Z5XI_i"
      }
    },
    {
      "cell_type": "code",
      "source": [
        "#idade <5 anos = 0%\n",
        "#idade >=5 e <20 = 15%\n",
        "#idade >=20 e <40 = 25%\n",
        "#idade >=40 = 30%\n",
        "\n",
        "#função para cálculo do iptu passando a idade do imóvel como parâmetro e comparando as condições descritas acima\n",
        "\n",
        "def calcular_iptu(idade_imovel):\n",
        "    if idade_imovel < 5:\n",
        "        return 0\n",
        "    elif 5 <= idade_imovel < 20:\n",
        "        return idade_imovel * 0.15\n",
        "    elif 20 <= idade_imovel < 40:\n",
        "        return idade_imovel * 0.25\n",
        "    else:\n",
        "        return idade_imovel * 0.3\n",
        "\n",
        "#coleta as informações de ano de construção e atual para cálculo da idade\n",
        "ano_imovel = float(input(\"Digite o ano de construção do imóvel: \"))\n",
        "ano_atual = float(input(\"Digite o ano atual: \"))\n",
        "\n",
        "#mostra na tela o resultado da idade e do valor do iptu\n",
        "idade_imovel = ano_atual - ano_imovel\n",
        "print(\"Idade do imóvel:\", idade_imovel)\n",
        "\n",
        "valor_iptu = calcular_iptu(idade_imovel)\n",
        "print(f\"O valor do IPTU é: R$ {valor_iptu:.2f}\")\n",
        "\n"
      ],
      "metadata": {
        "id": "MNSuiT0KXa3P"
      },
      "execution_count": null,
      "outputs": []
    },
    {
      "cell_type": "markdown",
      "source": [
        "Exercício 9) Cálculo imc\n",
        "\n"
      ],
      "metadata": {
        "id": "8ssSxldkdXCN"
      }
    },
    {
      "cell_type": "code",
      "source": [
        "#imc <18,5 = \"baixo peso\"\n",
        "#imc >=18,5 e >25 = \"normal\"\n",
        "#imc >=25 e <30 = \"sobrepeso\"\n",
        "#imc >=30 = \"obesidade\"\n",
        "\n",
        "#função para cálculo do imc e retorno do estado nutricional\n",
        "def calcular_imc(imc):\n",
        "    if imc < 18.5:\n",
        "        return \"baixo peso\"\n",
        "    elif 18.5 <= imc < 25:\n",
        "        return \"normal\"\n",
        "    elif 25 <= imc < 30:\n",
        "        return \"sobrepeso\"\n",
        "    else:\n",
        "        return \"obesidade\"\n",
        "\n",
        "#coleta o peso e altura para o cálculo\n",
        "peso = float(input(\"Digite o seu peso: \"))\n",
        "altura = float(input(\"Digite a sua altura: \"))\n",
        "\n",
        "#calcula o imc com o peso e altura coletados\n",
        "imc = peso / (altura ** 2)\n",
        "print(f\"O cálculo do seu IMC é: {imc:.2f}\")\n",
        "\n",
        "\n",
        "classificacao = calcular_imc(imc)\n",
        "print(f\"Sua classificação é: {classificacao}\")\n"
      ],
      "metadata": {
        "id": "h_q7hcMEfxpL"
      },
      "execution_count": null,
      "outputs": []
    },
    {
      "cell_type": "markdown",
      "source": [
        "Exercício 10) Leitura de número"
      ],
      "metadata": {
        "id": "uuFPt1_askCn"
      }
    },
    {
      "cell_type": "code",
      "source": [
        "#coleta os números indicados pelo usuário\n",
        "primeiro_numero = float(input(\"Digite o primeiro número:\"))\n",
        "segundo_numero = float(input(\"Digite o segundo número:\"))\n",
        "terceiro_numero = float(input(\"Digite o terceiro número:\"))\n",
        "\n",
        "# condicional para avaliar se os números coletados estão em ordem crescente ou não\n",
        "if primeiro_numero < segundo_numero and segundo_numero < terceiro_numero:\n",
        "    print(\"Os números estão em ordem crescente.\")\n",
        "else:\n",
        "    print(\"Os números não estão em ordem crescente.\")\n"
      ],
      "metadata": {
        "id": "8H0ZhERBsw_2"
      },
      "execution_count": null,
      "outputs": []
    },
    {
      "cell_type": "markdown",
      "source": [
        "Exercício 11) Avaliação dos alunos"
      ],
      "metadata": {
        "id": "5oVhUPBJx4Ec"
      }
    },
    {
      "cell_type": "code",
      "source": [
        "#cálculo daa média dos alunos + nível de frequência\n",
        "#aval1 e aval2 com mesmo peso\n",
        "#frequência mínima de 75%\n",
        "\n",
        "#função que calcula o estado acadêmico, passando a média e a frequência\n",
        "def calcular_status_academico(media, frequencia):\n",
        "    if 6 <= media <= 10 and 75 <= frequencia <= 100:\n",
        "        return \"aprovado\"\n",
        "    elif 4 <= media < 6 and 75 <= frequencia <= 100:\n",
        "        return \"exame\"\n",
        "    else:\n",
        "        return \"reprovado\"\n",
        "\n",
        "#coleta os valores das notas e da frequência do aluno\n",
        "aval1 = float(input(\"Digite a nota da primeira avaliação: \"))\n",
        "aval2 = float(input(\"Digite a nota da segunda avaliação: \"))\n",
        "frequencia = float(input(\"Digite a frequência do aluno: \"))\n",
        "\n",
        "#calcula a média\n",
        "media = (aval1 + aval2) / 2\n",
        "status_academico = calcular_status_academico(media, frequencia)\n",
        "\n",
        "#mostra o resultado do status acadêmico\n",
        "print(f\"Seu status acadêmico é: {status_academico}\")\n",
        "\n"
      ],
      "metadata": {
        "id": "RA0RoZS4yWZ2"
      },
      "execution_count": null,
      "outputs": []
    },
    {
      "cell_type": "markdown",
      "source": [
        "Exercício 12) Cálculo da função"
      ],
      "metadata": {
        "id": "YUqhWxw0yY_f"
      }
    },
    {
      "cell_type": "code",
      "source": [
        "#função para calcular a função, passando o valor de x como parâmetro, e verificar se o valor é diferente de 0\n",
        "def calcular_x(x):\n",
        "    if x != 0:\n",
        "        resultado = 4 * (x**2 - 3) * (x + 9) / x\n",
        "        return resultado\n",
        "    else:\n",
        "        print(\"Não é permitido dividir por zero.\")\n",
        "        return None\n",
        "\n",
        "#coleta o valor de x\n",
        "x = float(input(\"Digite o valor de x: \"))\n",
        "valor_calculado = calcular_x(x)\n",
        "\n",
        "#verifica se o valor encontrado existe e retorna na tela\n",
        "if valor_calculado is not None:\n",
        "    print(f\"O resultado do cálculo é: {valor_calculado:.2f}\")\n",
        "\n"
      ],
      "metadata": {
        "id": "bIG4SAEvyXNR"
      },
      "execution_count": null,
      "outputs": []
    }
  ]
}